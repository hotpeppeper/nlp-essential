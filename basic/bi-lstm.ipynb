{
 "metadata": {
  "language_info": {
   "codemirror_mode": {
    "name": "ipython",
    "version": 3
   },
   "file_extension": ".py",
   "mimetype": "text/x-python",
   "name": "python",
   "nbconvert_exporter": "python",
   "pygments_lexer": "ipython3",
   "version": "3.8.5"
  },
  "orig_nbformat": 2,
  "kernelspec": {
   "name": "python3",
   "display_name": "Python 3.8.5 64-bit ('base': conda)",
   "metadata": {
    "interpreter": {
     "hash": "3fa48bb2c24bfd2c860ebc2f76fcf240faeca9c313f5297b1080b141badca120"
    }
   }
  }
 },
 "nbformat": 4,
 "nbformat_minor": 2,
 "cells": [
  {
   "cell_type": "code",
   "execution_count": 1,
   "metadata": {},
   "outputs": [],
   "source": [
    "import numpy as np\n",
    "import torch\n",
    "from torch import nn\n",
    "from torch import optim"
   ]
  },
  {
   "cell_type": "code",
   "execution_count": 8,
   "metadata": {},
   "outputs": [],
   "source": [
    "def make_batch(sentence, word_dict):\n",
    "    input_batch = []\n",
    "    target_batch = []\n",
    "\n",
    "    words = sentence.split()\n",
    "    for i, word in enumerate(words[:-1]):\n",
    "        input = [word_dict[n] for n in words[:(i + 1)]]\n",
    "        input = input + [0] * (max_len - len(input))\n",
    "        target = word_dict[words[i + 1]]\n",
    "        input_batch.append(np.eye(n_class)[input])\n",
    "        target_batch.append(target)\n",
    "\n",
    "    return input_batch, target_batch"
   ]
  },
  {
   "cell_type": "code",
   "execution_count": 9,
   "metadata": {},
   "outputs": [],
   "source": [
    "class BILSTM(nn.Module):\n",
    "    def __init__(self, n_class, n_hidden):\n",
    "        super(BILSTM, self).__init__()\n",
    "        self.n_class = n_class\n",
    "        self.n_hidden = n_hidden\n",
    "        self.lstm = nn.LSTM(input_size=n_class, hidden_size=n_hidden, bidirectional=True)\n",
    "        self.W = nn.Linear(n_hidden*2, n_class, bias=False)\n",
    "        self.b = nn.Parameter(torch.ones([n_class]))\n",
    "\n",
    "    def forward(self, X):\n",
    "        input = X.transpose(0, 1)\n",
    "\n",
    "        hidden_state = torch.zeros(1*2, len(X), self.n_hidden)\n",
    "        cell_state = torch.zeros(1*2, len(X), self.n_hidden)\n",
    "\n",
    "        outputs, (_,_) = self.lstm(input, (hidden_state, cell_state))\n",
    "        outputs = outputs[-1]\n",
    "        model = self.W(outputs) + self.b\n",
    "        return model\n"
   ]
  },
  {
   "cell_type": "code",
   "execution_count": 10,
   "metadata": {},
   "outputs": [],
   "source": [
    "n_hidden = 5\n",
    "sentence = (\n",
    "        'Lorem ipsum dolor sit amet consectetur adipisicing elit '\n",
    "        'sed do eiusmod tempor incididunt ut labore et dolore magna '\n",
    "        'aliqua Ut enim ad minim veniam quis nostrud exercitation'\n",
    "    )\n",
    "word_dict = {w: i for i, w in enumerate(list(set(sentence.split())))}\n",
    "number_dict = {i: w for i, w in enumerate(list(set(sentence.split())))}\n",
    "n_class = len(word_dict)\n",
    "max_len = len(sentence.split())"
   ]
  },
  {
   "cell_type": "code",
   "execution_count": 11,
   "metadata": {},
   "outputs": [],
   "source": [
    "model = BILSTM(n_class, n_hidden)"
   ]
  },
  {
   "cell_type": "code",
   "execution_count": 13,
   "metadata": {},
   "outputs": [],
   "source": [
    "criterion = nn.CrossEntropyLoss()\n",
    "optimizer = optim.Adam(model.parameters(), lr=0.001)\n",
    "\n",
    "input_batch, target_batch = make_batch(sentence, word_dict)\n",
    "input_batch = torch.FloatTensor(input_batch)\n",
    "target_batch = torch.LongTensor(target_batch)"
   ]
  },
  {
   "cell_type": "code",
   "execution_count": 14,
   "metadata": {},
   "outputs": [
    {
     "output_type": "stream",
     "name": "stdout",
     "text": [
      "Epoch: 1000 cost = 1.869559\n",
      "Epoch: 2000 cost = 1.605071\n",
      "Epoch: 3000 cost = 1.424430\n",
      "Epoch: 4000 cost = 1.299399\n",
      "Epoch: 5000 cost = 1.222594\n",
      "Epoch: 6000 cost = 1.165366\n",
      "Epoch: 7000 cost = 1.129363\n",
      "Epoch: 8000 cost = 1.096126\n",
      "Epoch: 9000 cost = 1.081305\n",
      "Epoch: 10000 cost = 0.714586\n"
     ]
    }
   ],
   "source": [
    "for epoch in range(10000):\n",
    "    optimizer.zero_grad()\n",
    "    output = model(input_batch)\n",
    "    loss = criterion(output, target_batch)\n",
    "    if (epoch + 1) % 1000 == 0:\n",
    "        print('Epoch:', '%04d' % (epoch + 1), 'cost =', '{:.6f}'.format(loss))\n",
    "\n",
    "    loss.backward()\n",
    "    optimizer.step()\n"
   ]
  },
  {
   "cell_type": "code",
   "execution_count": 15,
   "metadata": {},
   "outputs": [
    {
     "output_type": "stream",
     "name": "stdout",
     "text": [
      "Lorem ipsum dolor sit amet consectetur adipisicing elit sed do eiusmod tempor incididunt ut labore et dolore magna aliqua Ut enim ad minim veniam quis nostrud exercitation\n['ipsum', 'ipsum', 'sit', 'amet', 'consectetur', 'adipisicing', 'elit', 'sed', 'do', 'eiusmod', 'tempor', 'ut', 'ut', 'labore', 'et', 'dolore', 'magna', 'aliqua', 'enim', 'enim', 'ad', 'minim', 'veniam', 'quis', 'nostrud', 'exercitation']\n"
     ]
    }
   ],
   "source": [
    "predict = model(input_batch).data.max(1, keepdim=True)[1]\n",
    "print(sentence)\n",
    "print([number_dict[n.item()] for n in predict.squeeze()])"
   ]
  },
  {
   "cell_type": "code",
   "execution_count": null,
   "metadata": {},
   "outputs": [],
   "source": []
  }
 ]
}